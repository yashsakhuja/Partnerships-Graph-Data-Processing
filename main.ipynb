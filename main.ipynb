{
 "cells": [
  {
   "cell_type": "code",
   "execution_count": 400,
   "metadata": {},
   "outputs": [],
   "source": [
    "import pandas as pd\n",
    "import numpy as np\n",
    "import matplotlib.pyplot as plt"
   ]
  },
  {
   "cell_type": "code",
   "execution_count": 401,
   "metadata": {},
   "outputs": [],
   "source": [
    "df_runs_lan=pd.read_csv(\"data/LAN vs SUR - 2023-07-07/2023-07-07-LAN-Batting.csv\")\n",
    "df_wickets_lan=pd.read_csv(\"data/LAN vs SUR - 2023-07-07/2023-07-07-LAN-FoW.csv\")\n",
    "\n",
    "df_runs_sur=pd.read_csv(\"data/LAN vs SUR - 2023-07-07/2023-07-07-SUR-Batting.csv\")\n",
    "df_wickets_sur=pd.read_csv(\"data/LAN vs SUR - 2023-07-07/2023-07-07-SUR-FoW.csv\")\n",
    "\n",
    "df_battingorder=pd.read_csv(\"data/LAN vs SUR - 2023-07-07/Batting Order.csv\")"
   ]
  },
  {
   "cell_type": "code",
   "execution_count": 402,
   "metadata": {},
   "outputs": [],
   "source": [
    "#Sorting in ascending order by balls\n",
    "df_runs_lan.sort_values(by=\"ball\", ascending=True, inplace=True)\n",
    "df_runs_lan=df_runs_lan.reset_index(drop=True)\n",
    "\n",
    "df_runs_sur.sort_values(by=\"ball\", ascending=True, inplace=True)\n",
    "df_runs_sur=df_runs_sur.reset_index(drop=True)"
   ]
  },
  {
   "cell_type": "code",
   "execution_count": 403,
   "metadata": {},
   "outputs": [],
   "source": [
    "# Adding Team Labels\n",
    "df_runs_lan[\"Team\"]=\"Lancashire\"\n",
    "df_runs_sur[\"Team\"]=\"Surrey\""
   ]
  },
  {
   "cell_type": "code",
   "execution_count": 404,
   "metadata": {},
   "outputs": [],
   "source": [
    "#Sorting Wickets Dataset\n",
    "df_wickets_lan.sort_values(by=\"ball\", ascending=True, inplace=True)\n",
    "df_wickets_lan=df_wickets_lan.reset_index(drop=True)\n",
    "\n",
    "df_wickets_sur.sort_values(by=\"ball\", ascending=True, inplace=True)\n",
    "df_wickets_sur=df_wickets_sur.reset_index(drop=True)"
   ]
  },
  {
   "cell_type": "code",
   "execution_count": 405,
   "metadata": {},
   "outputs": [],
   "source": [
    "#Joining on Wickets and Runs datasets\n",
    "df_lan = df_runs_lan.merge(\n",
    "    df_wickets_lan,\n",
    "    on=[\"ball\", \"score\", \"commentary\"],\n",
    "    how=\"left\"\n",
    ")\n",
    "\n",
    "df_sur = df_runs_sur.merge(\n",
    "    df_wickets_sur,\n",
    "    on=[\"ball\", \"score\", \"commentary\"],\n",
    "    how=\"left\"\n",
    ")"
   ]
  },
  {
   "cell_type": "code",
   "execution_count": 406,
   "metadata": {},
   "outputs": [
    {
     "data": {
      "text/plain": [
       "(249, 5)"
      ]
     },
     "execution_count": 406,
     "metadata": {},
     "output_type": "execute_result"
    }
   ],
   "source": [
    "df = pd.concat([df_lan, df_sur], axis=0, ignore_index=True)\n",
    "df.shape"
   ]
  },
  {
   "cell_type": "code",
   "execution_count": 407,
   "metadata": {},
   "outputs": [
    {
     "name": "stderr",
     "output_type": "stream",
     "text": [
      "<>:7: SyntaxWarning: invalid escape sequence '\\d'\n",
      "<>:7: SyntaxWarning: invalid escape sequence '\\d'\n",
      "/var/folders/0r/jdkpl6hs7m184t4p3zcgbsv00000gn/T/ipykernel_39872/3216542835.py:7: SyntaxWarning: invalid escape sequence '\\d'\n",
      "  df['Runs'] = df['score'].astype(str).str.extract('(\\d+)')\n"
     ]
    }
   ],
   "source": [
    "#Scores Cleaning\n",
    "#Replace \".\" with \"0\"\n",
    "df['score'] = df['score'].replace(\"•\", 0)\n",
    "\n",
    "#Extracting Runs or Numeric elements from the Scores column\n",
    "df[\"Runs\"]=None\n",
    "df['Runs'] = df['score'].astype(str).str.extract('(\\d+)')\n",
    "df['Runs'] = df['Runs'].fillna(0).astype(int)"
   ]
  },
  {
   "cell_type": "code",
   "execution_count": 408,
   "metadata": {},
   "outputs": [],
   "source": [
    "#On-Strike batter\n",
    "df[\"commentary_split\"] = df[\"commentary\"].str.split(\",\")\n",
    "df[\"bowler_to_batter\"] = df[\"commentary_split\"].str[0]\n",
    "df[\"result\"] = df[\"commentary_split\"].str[1]\n",
    "df[\"bowler_to_batter_split\"] = df[\"bowler_to_batter\"].str.split(\" to \")\n",
    "df[\"bowler\"] = df[\"bowler_to_batter_split\"].str[0]\n",
    "df[\"on_strike_batter\"] = df[\"bowler_to_batter_split\"].str[1]"
   ]
  },
  {
   "cell_type": "code",
   "execution_count": 409,
   "metadata": {},
   "outputs": [],
   "source": [
    "#Data Specific\n",
    "df['on_strike_batter'] = df['on_strike_batter'].apply(\n",
    "    lambda x: \"Curran\" if x == \"Sam Curran\" else x\n",
    ")"
   ]
  },
  {
   "cell_type": "code",
   "execution_count": 410,
   "metadata": {},
   "outputs": [],
   "source": [
    "# convert the 'ball' column to a string\n",
    "df['ball'] = df['ball'].astype(str)\n",
    "\n",
    "# Split 'ball' into 'Over' and 'Ball' columns\n",
    "df[['Over', 'Ball']] = df['ball'].str.split('.', expand=True)\n",
    "\n",
    "# Convert 'Over' and 'Ball' columns to integers\n",
    "df['Over'] = df['Over'].astype(int)\n",
    "df['Ball'] = df['Ball'].astype(int)"
   ]
  },
  {
   "cell_type": "code",
   "execution_count": 411,
   "metadata": {},
   "outputs": [],
   "source": [
    "# Creating Out Batter details\n",
    "df['out_batsman'] = None\n",
    "\n",
    "# Iterate over rows to apply condition and extraction\n",
    "for i in range(len(df)):\n",
    "    # Check if 'fow' is a non-null and non-empty string\n",
    "    if isinstance(df[\"fow\"][i], str) and df[\"fow\"][i]:\n",
    "        \n",
    "        df.loc[i, 'out_batsman'] = df[\"fow\"][i].split(' ')[1] if len(df[\"fow\"][i].split(' ')) > 1 else None"
   ]
  },
  {
   "cell_type": "code",
   "execution_count": 412,
   "metadata": {},
   "outputs": [
    {
     "data": {
      "text/plain": [
       "(11, 15)"
      ]
     },
     "execution_count": 412,
     "metadata": {},
     "output_type": "execute_result"
    }
   ],
   "source": [
    "#check\n",
    "df[df[\"fow\"].isna()==False].shape"
   ]
  },
  {
   "cell_type": "code",
   "execution_count": 413,
   "metadata": {},
   "outputs": [],
   "source": [
    "df = df.merge(\n",
    "    df_battingorder,\n",
    "    left_on=[\"Team\",\"on_strike_batter\"],\n",
    "    right_on=[\"Team\",\"Batter\"],\n",
    "    how=\"left\"\n",
    ")"
   ]
  },
  {
   "cell_type": "code",
   "execution_count": 414,
   "metadata": {},
   "outputs": [],
   "source": [
    "df = df.merge(\n",
    "    df_battingorder,\n",
    "    left_on=[\"Team\",\"out_batsman\"],\n",
    "    right_on=[\"Team\",\"Batter\"],\n",
    "    how=\"left\"\n",
    ")\n",
    "\n"
   ]
  },
  {
   "cell_type": "code",
   "execution_count": 415,
   "metadata": {},
   "outputs": [],
   "source": [
    "df=df.drop([\"Batter_x\",\"Batter_y\"],axis=1)\n",
    "df = df.rename(columns={'Batting Order_x': 'Batting_Order_Strike'})\n",
    "df = df.rename(columns={'Batting Order_y': 'Batting_Order_Out'})\n",
    "df['Batting_Order_Out'] = df['Batting_Order_Out'].astype('Int64')"
   ]
  },
  {
   "cell_type": "code",
   "execution_count": 416,
   "metadata": {},
   "outputs": [
    {
     "name": "stdout",
     "output_type": "stream",
     "text": [
      "Processed team: Lancashire\n",
      "Processed team: Surrey\n"
     ]
    }
   ],
   "source": [
    "def assign_partnership_key(df_team, team_name):\n",
    "    \"\"\"\n",
    "    Assigns a partnership key to batters on pitch for a specific team.\n",
    "    \n",
    "    Parameters:\n",
    "        df_team (pd.DataFrame): Filtered DataFrame for the specific team.\n",
    "        team_name (str): Name of the team being processed.\n",
    "        \n",
    "    Returns:\n",
    "        pd.DataFrame: DataFrame with partnership keys updated.\n",
    "    \"\"\"\n",
    "    # Reset index for consistent row iteration\n",
    "    df_team.reset_index(drop=True, inplace=True)\n",
    "\n",
    "    # Initialize partnership_key and counter\n",
    "    partnership_key = [1, 2]\n",
    "    counter = 3\n",
    "\n",
    "    # Ensure the column can hold strings or tuples\n",
    "    df_team[\"partnership_key\"] = None  # Initialize the column\n",
    "\n",
    "    for i in range(len(df_team)):\n",
    "        if pd.isna(df_team.iloc[i][\"Batting_Order_Out\"]):  # Check if Batting_Order_Out is NaN\n",
    "            df_team.at[i, \"partnership_key\"] = tuple(partnership_key)\n",
    "        else:\n",
    "            current_min = min(partnership_key)\n",
    "            current_max = max(partnership_key)\n",
    "\n",
    "            if df_team.iloc[i][\"Batting_Order_Out\"] == current_min:\n",
    "                df_team.at[i, \"partnership_key\"] = tuple(partnership_key)\n",
    "                new_key = counter\n",
    "                counter += 1\n",
    "                partnership_key[partnership_key.index(current_min)] = new_key\n",
    "            else:\n",
    "                df_team.at[i, \"partnership_key\"] = tuple(partnership_key)\n",
    "                new_key = counter\n",
    "                counter += 1\n",
    "                partnership_key[partnership_key.index(current_max)] = new_key\n",
    "\n",
    "    print(f\"Processed team: {team_name}\")\n",
    "    return df_team\n",
    "\n",
    "# Process each team using the function\n",
    "df_lancashire = assign_partnership_key(df[df[\"Team\"] == \"Lancashire\"].copy(), \"Lancashire\")\n",
    "df_surrey = assign_partnership_key(df[df[\"Team\"] == \"Surrey\"].copy(), \"Surrey\")\n",
    "\n",
    "# Combine the results back into the main DataFrame\n",
    "df = pd.concat([df_lancashire, df_surrey], axis=0)\n"
   ]
  },
  {
   "cell_type": "code",
   "execution_count": 417,
   "metadata": {},
   "outputs": [],
   "source": [
    "# Add a new column with the number in the list but not in 'single_number'\n",
    "df['Batting_Order_NonStrike'] = df.apply(\n",
    "    lambda row: [num for num in row['partnership_key'] if num != row['Batting_Order_Strike']][0],\n",
    "    axis=1\n",
    ")"
   ]
  },
  {
   "cell_type": "code",
   "execution_count": 418,
   "metadata": {},
   "outputs": [],
   "source": [
    "df = df.merge(\n",
    "    df_battingorder,\n",
    "    left_on=[\"Team\",\"Batting_Order_NonStrike\"],\n",
    "    right_on=[\"Team\",\"Batting Order\"],\n",
    "    how=\"left\"\n",
    ")\n",
    "\n",
    "df = df.rename(columns={'Batter': 'non_strike_batter'})"
   ]
  },
  {
   "cell_type": "code",
   "execution_count": 419,
   "metadata": {},
   "outputs": [],
   "source": [
    "# Split the tuples into separate columns\n",
    "df_split = df['partnership_key'].apply(pd.Series)\n",
    "\n",
    "# Assign meaningful column names (if you know the structure of the tuple)\n",
    "df_split.columns = ['Partner1', 'Partner2']  # Replace with actual names if needed\n",
    "\n",
    "# Concatenate the new columns back to the original DataFrame\n",
    "df = pd.concat([df, df_split], axis=1)"
   ]
  },
  {
   "cell_type": "code",
   "execution_count": 420,
   "metadata": {},
   "outputs": [],
   "source": [
    "#Names for Partner1 and Partner 2\n",
    "df = df.merge(\n",
    "    df_battingorder,\n",
    "    left_on=[\"Team\",\"Partner1\"],\n",
    "    right_on=[\"Team\",\"Batting Order\"],\n",
    "    how=\"left\"\n",
    ")"
   ]
  },
  {
   "cell_type": "code",
   "execution_count": 421,
   "metadata": {},
   "outputs": [],
   "source": [
    "#Names for Partner2\n",
    "df = df.merge(\n",
    "    df_battingorder,\n",
    "    left_on=[\"Team\",\"Partner2\"],\n",
    "    right_on=[\"Team\",\"Batting Order\"],\n",
    "    how=\"left\"\n",
    ")"
   ]
  },
  {
   "cell_type": "code",
   "execution_count": 422,
   "metadata": {},
   "outputs": [],
   "source": [
    "# Rename the column\n",
    "df = df.rename(columns={'Batter_x': 'Partner_1',\"Batter_y\":'Partner_2'})"
   ]
  },
  {
   "cell_type": "code",
   "execution_count": 423,
   "metadata": {},
   "outputs": [
    {
     "data": {
      "text/html": [
       "<div>\n",
       "<style scoped>\n",
       "    .dataframe tbody tr th:only-of-type {\n",
       "        vertical-align: middle;\n",
       "    }\n",
       "\n",
       "    .dataframe tbody tr th {\n",
       "        vertical-align: top;\n",
       "    }\n",
       "\n",
       "    .dataframe thead th {\n",
       "        text-align: right;\n",
       "    }\n",
       "</style>\n",
       "<table border=\"1\" class=\"dataframe\">\n",
       "  <thead>\n",
       "    <tr style=\"text-align: right;\">\n",
       "      <th></th>\n",
       "      <th>ball</th>\n",
       "      <th>score</th>\n",
       "      <th>commentary</th>\n",
       "      <th>Team</th>\n",
       "      <th>fow</th>\n",
       "      <th>Runs</th>\n",
       "      <th>commentary_split</th>\n",
       "      <th>bowler_to_batter</th>\n",
       "      <th>result</th>\n",
       "      <th>bowler_to_batter_split</th>\n",
       "      <th>...</th>\n",
       "      <th>partnership_key</th>\n",
       "      <th>Batting_Order_NonStrike</th>\n",
       "      <th>non_strike_batter</th>\n",
       "      <th>Batting Order_x</th>\n",
       "      <th>Partner1</th>\n",
       "      <th>Partner2</th>\n",
       "      <th>Partner_1</th>\n",
       "      <th>Batting Order_y</th>\n",
       "      <th>Partner_2</th>\n",
       "      <th>Batting Order</th>\n",
       "    </tr>\n",
       "  </thead>\n",
       "  <tbody>\n",
       "    <tr>\n",
       "      <th>0</th>\n",
       "      <td>0.1</td>\n",
       "      <td>1</td>\n",
       "      <td>Jacks to Salt,  1 run</td>\n",
       "      <td>Lancashire</td>\n",
       "      <td>NaN</td>\n",
       "      <td>1</td>\n",
       "      <td>[Jacks to Salt,   1 run]</td>\n",
       "      <td>Jacks to Salt</td>\n",
       "      <td>1 run</td>\n",
       "      <td>[Jacks, Salt]</td>\n",
       "      <td>...</td>\n",
       "      <td>(1, 2)</td>\n",
       "      <td>2</td>\n",
       "      <td>Buttler</td>\n",
       "      <td>2</td>\n",
       "      <td>1</td>\n",
       "      <td>2</td>\n",
       "      <td>Salt</td>\n",
       "      <td>1</td>\n",
       "      <td>Buttler</td>\n",
       "      <td>2</td>\n",
       "    </tr>\n",
       "    <tr>\n",
       "      <th>1</th>\n",
       "      <td>0.2</td>\n",
       "      <td>1</td>\n",
       "      <td>Jacks to Buttler,  1 run</td>\n",
       "      <td>Lancashire</td>\n",
       "      <td>NaN</td>\n",
       "      <td>1</td>\n",
       "      <td>[Jacks to Buttler,   1 run]</td>\n",
       "      <td>Jacks to Buttler</td>\n",
       "      <td>1 run</td>\n",
       "      <td>[Jacks, Buttler]</td>\n",
       "      <td>...</td>\n",
       "      <td>(1, 2)</td>\n",
       "      <td>1</td>\n",
       "      <td>Salt</td>\n",
       "      <td>1</td>\n",
       "      <td>1</td>\n",
       "      <td>2</td>\n",
       "      <td>Salt</td>\n",
       "      <td>1</td>\n",
       "      <td>Buttler</td>\n",
       "      <td>2</td>\n",
       "    </tr>\n",
       "    <tr>\n",
       "      <th>2</th>\n",
       "      <td>0.3</td>\n",
       "      <td>4</td>\n",
       "      <td>Jacks to Salt, FOUR runs</td>\n",
       "      <td>Lancashire</td>\n",
       "      <td>NaN</td>\n",
       "      <td>4</td>\n",
       "      <td>[Jacks to Salt,  FOUR runs]</td>\n",
       "      <td>Jacks to Salt</td>\n",
       "      <td>FOUR runs</td>\n",
       "      <td>[Jacks, Salt]</td>\n",
       "      <td>...</td>\n",
       "      <td>(1, 2)</td>\n",
       "      <td>2</td>\n",
       "      <td>Buttler</td>\n",
       "      <td>2</td>\n",
       "      <td>1</td>\n",
       "      <td>2</td>\n",
       "      <td>Salt</td>\n",
       "      <td>1</td>\n",
       "      <td>Buttler</td>\n",
       "      <td>2</td>\n",
       "    </tr>\n",
       "    <tr>\n",
       "      <th>3</th>\n",
       "      <td>0.4</td>\n",
       "      <td>1</td>\n",
       "      <td>Jacks to Salt,  1 run</td>\n",
       "      <td>Lancashire</td>\n",
       "      <td>NaN</td>\n",
       "      <td>1</td>\n",
       "      <td>[Jacks to Salt,   1 run]</td>\n",
       "      <td>Jacks to Salt</td>\n",
       "      <td>1 run</td>\n",
       "      <td>[Jacks, Salt]</td>\n",
       "      <td>...</td>\n",
       "      <td>(1, 2)</td>\n",
       "      <td>2</td>\n",
       "      <td>Buttler</td>\n",
       "      <td>2</td>\n",
       "      <td>1</td>\n",
       "      <td>2</td>\n",
       "      <td>Salt</td>\n",
       "      <td>1</td>\n",
       "      <td>Buttler</td>\n",
       "      <td>2</td>\n",
       "    </tr>\n",
       "    <tr>\n",
       "      <th>4</th>\n",
       "      <td>0.5</td>\n",
       "      <td>6</td>\n",
       "      <td>Jacks to Buttler,  SIX runs</td>\n",
       "      <td>Lancashire</td>\n",
       "      <td>NaN</td>\n",
       "      <td>6</td>\n",
       "      <td>[Jacks to Buttler,   SIX runs]</td>\n",
       "      <td>Jacks to Buttler</td>\n",
       "      <td>SIX runs</td>\n",
       "      <td>[Jacks, Buttler]</td>\n",
       "      <td>...</td>\n",
       "      <td>(1, 2)</td>\n",
       "      <td>1</td>\n",
       "      <td>Salt</td>\n",
       "      <td>1</td>\n",
       "      <td>1</td>\n",
       "      <td>2</td>\n",
       "      <td>Salt</td>\n",
       "      <td>1</td>\n",
       "      <td>Buttler</td>\n",
       "      <td>2</td>\n",
       "    </tr>\n",
       "  </tbody>\n",
       "</table>\n",
       "<p>5 rows × 27 columns</p>\n",
       "</div>"
      ],
      "text/plain": [
       "  ball score                   commentary        Team  fow  Runs  \\\n",
       "0  0.1     1        Jacks to Salt,  1 run  Lancashire  NaN     1   \n",
       "1  0.2     1     Jacks to Buttler,  1 run  Lancashire  NaN     1   \n",
       "2  0.3     4     Jacks to Salt, FOUR runs  Lancashire  NaN     4   \n",
       "3  0.4     1        Jacks to Salt,  1 run  Lancashire  NaN     1   \n",
       "4  0.5     6  Jacks to Buttler,  SIX runs  Lancashire  NaN     6   \n",
       "\n",
       "                 commentary_split  bowler_to_batter      result  \\\n",
       "0        [Jacks to Salt,   1 run]     Jacks to Salt       1 run   \n",
       "1     [Jacks to Buttler,   1 run]  Jacks to Buttler       1 run   \n",
       "2     [Jacks to Salt,  FOUR runs]     Jacks to Salt   FOUR runs   \n",
       "3        [Jacks to Salt,   1 run]     Jacks to Salt       1 run   \n",
       "4  [Jacks to Buttler,   SIX runs]  Jacks to Buttler    SIX runs   \n",
       "\n",
       "  bowler_to_batter_split  ... partnership_key Batting_Order_NonStrike  \\\n",
       "0          [Jacks, Salt]  ...          (1, 2)                       2   \n",
       "1       [Jacks, Buttler]  ...          (1, 2)                       1   \n",
       "2          [Jacks, Salt]  ...          (1, 2)                       2   \n",
       "3          [Jacks, Salt]  ...          (1, 2)                       2   \n",
       "4       [Jacks, Buttler]  ...          (1, 2)                       1   \n",
       "\n",
       "   non_strike_batter  Batting Order_x Partner1  Partner2  Partner_1  \\\n",
       "0            Buttler                2        1         2       Salt   \n",
       "1               Salt                1        1         2       Salt   \n",
       "2            Buttler                2        1         2       Salt   \n",
       "3            Buttler                2        1         2       Salt   \n",
       "4               Salt                1        1         2       Salt   \n",
       "\n",
       "  Batting Order_y  Partner_2 Batting Order  \n",
       "0               1    Buttler             2  \n",
       "1               1    Buttler             2  \n",
       "2               1    Buttler             2  \n",
       "3               1    Buttler             2  \n",
       "4               1    Buttler             2  \n",
       "\n",
       "[5 rows x 27 columns]"
      ]
     },
     "execution_count": 423,
     "metadata": {},
     "output_type": "execute_result"
    }
   ],
   "source": [
    "df.head()"
   ]
  },
  {
   "cell_type": "code",
   "execution_count": 424,
   "metadata": {},
   "outputs": [],
   "source": [
    "#Partner Name List\n",
    "df['partnership_key_name'] = df.apply(lambda row: [row['Partner_1'], row['Partner_2']], axis=1)"
   ]
  },
  {
   "cell_type": "code",
   "execution_count": 425,
   "metadata": {},
   "outputs": [
    {
     "name": "stdout",
     "output_type": "stream",
     "text": [
      "    partnership_key_name  Runs\n",
      "0         (Evans, Jacks)    32\n",
      "1        (Salt, Buttler)    35\n",
      "2           (Evans, Roy)    72\n",
      "3       (Croft, Buttler)    62\n",
      "4   (Croft, Livingstone)    27\n",
      "5      (Croft, Mitchell)    35\n",
      "6          (Curran, Roy)    36\n",
      "7      (Curran, Overton)    18\n",
      "8      (Jordan, Overton)    18\n",
      "9      (Wells, Mitchell)     2\n",
      "10      (Jordan, Narine)    11\n",
      "11     (Vilas, Mitchell)     7\n",
      "12     (Jones, Mitchell)     6\n"
     ]
    }
   ],
   "source": [
    "df['partnership_key_name'] = df['partnership_key_name'].apply(tuple)\n",
    "\n",
    "\n",
    "result = df.groupby(['partnership_key_name', 'partnership_key'])['Runs'].sum()\n",
    "\n",
    "\n",
    "result_reset = result.reset_index()\n",
    "\n",
    "# Sort by 'partnership_key'\n",
    "result_sorted = result_reset.sort_values(by='partnership_key', ascending=True)\n",
    "result_sorted =result_sorted[[\"partnership_key_name\",\"Runs\"]]\n",
    "\n",
    "\n",
    "result_sorted = result_sorted.reset_index()\n",
    "\n",
    "print(result_sorted[[\"partnership_key_name\",\"Runs\"]])\n"
   ]
  },
  {
   "cell_type": "code",
   "execution_count": 426,
   "metadata": {},
   "outputs": [],
   "source": [
    "#Extras Runs Treatments\n",
    "df[\"nb_runs\"] = df[\"score\"].apply(lambda x: 2 if \"n\" in str(x) else 0)\n",
    "\n",
    "df[\"wide_runs\"] = df[\"score\"].apply(lambda x: 1 if \"w\" in str(x) else 0)\n",
    "\n",
    "df[\"leg_bye_flag\"] = df[\"commentary\"].apply(lambda x: 1 if \"leg bye\" in str(x) else 0)\n",
    "\n",
    "df[\"bye_flag\"] = df.apply(lambda row: 1 if \"byes\" in str(row[\"commentary\"]) and \"lb\" not in str(row[\"score\"]) else 0, axis=1)\n",
    "\n",
    "df[\"leg_bye_runs\"] = df.apply(lambda row: row[\"Runs\"] - row[\"nb_runs\"] - row[\"wide_runs\"] \n",
    "                              if row[\"leg_bye_flag\"] == 1 else 0, axis=1)\n",
    "\n",
    "df[\"bye_runs\"] = df.apply(lambda row: row[\"Runs\"] - row[\"nb_runs\"] - row[\"wide_runs\"] \n",
    "                              if row[\"bye_flag\"] == 1 else 0, axis=1)\n",
    "\n",
    "df[\"extras_runs\"]=df[\"nb_runs\"]+df[\"wide_runs\"]+df[\"leg_bye_runs\"]+df[\"bye_runs\"]"
   ]
  },
  {
   "cell_type": "code",
   "execution_count": 427,
   "metadata": {},
   "outputs": [],
   "source": [
    "#Runs of the bat- total runs - extras\n",
    "df[\"Bat_Runs\"]=df[\"Runs\"]-df[\"extras_runs\"]"
   ]
  },
  {
   "cell_type": "code",
   "execution_count": 428,
   "metadata": {},
   "outputs": [],
   "source": [
    "#Generate Ball ID\n",
    "df['Ball ID'] = df.groupby('Team').cumcount()"
   ]
  },
  {
   "cell_type": "code",
   "execution_count": 429,
   "metadata": {},
   "outputs": [],
   "source": [
    "df=df[['Team', 'Over', 'Ball', 'Ball ID', 'score', 'Runs', 'bowler', \n",
    "    'on_strike_batter', 'commentary', 'fow', 'Batting_Order_Strike', \n",
    "    'out_batsman', 'Batting_Order_Out', 'partnership_key', \n",
    "    'Batting_Order_NonStrike', 'non_strike_batter', \n",
    "    'partnership_key_name', 'nb_runs', 'wide_runs', 'leg_bye_flag', \n",
    "    'bye_flag', 'leg_bye_runs', 'bye_runs', 'extras_runs', 'Bat_Runs']]"
   ]
  },
  {
   "cell_type": "code",
   "execution_count": 430,
   "metadata": {},
   "outputs": [],
   "source": [
    "df=df.reset_index(drop=True)"
   ]
  },
  {
   "cell_type": "code",
   "execution_count": 431,
   "metadata": {},
   "outputs": [],
   "source": [
    "df.to_csv(\"output/2023-07-07-FinalOutputData.csv\")"
   ]
  }
 ],
 "metadata": {
  "kernelspec": {
   "display_name": ".venv",
   "language": "python",
   "name": "python3"
  },
  "language_info": {
   "codemirror_mode": {
    "name": "ipython",
    "version": 3
   },
   "file_extension": ".py",
   "mimetype": "text/x-python",
   "name": "python",
   "nbconvert_exporter": "python",
   "pygments_lexer": "ipython3",
   "version": "3.12.1"
  }
 },
 "nbformat": 4,
 "nbformat_minor": 2
}
